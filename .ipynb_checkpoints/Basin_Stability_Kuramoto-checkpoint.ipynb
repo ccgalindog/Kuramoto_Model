{
 "cells": [
  {
   "cell_type": "code",
   "execution_count": 1,
   "metadata": {},
   "outputs": [],
   "source": [
    "import numpy as np\n",
    "import matplotlib.style\n",
    "matplotlib.style.use('classic')\n",
    "#import matplotlib\n",
    "#matplotlib.use(\"pdf\")\n",
    "import numpy as np\n",
    "import networkx as nx\n",
    "import matplotlib.pyplot as plt\n",
    "from scipy.integrate import ode\n",
    "from scipy.interpolate import griddata\n",
    "from numba import cuda, autojit, jit, vectorize\n",
    "from pylab import imshow, show\n",
    "from timeit import default_timer as timer"
   ]
  },
  {
   "cell_type": "code",
   "execution_count": 2,
   "metadata": {},
   "outputs": [],
   "source": [
    "#@jit(nopython=True)\n",
    "#@vectorize\n",
    "def kuramoto_2nd_order( t, x, P, K, alfs ):\n",
    "    N = int(len( P ))\n",
    "    theta = x[:N]\n",
    "    dot_theta = x[N:]\n",
    "    dotdot_theta = np.zeros( 2*N, np.float64 )\n",
    "    dotdot_theta[0:N] = dot_theta\n",
    "    dotdot_theta[N:] = P - np.multiply( alfs, dot_theta ) + np.sum(K * np.sin( np.repeat( theta.reshape(N,1).T, N, axis=0 ) - np.repeat( theta.reshape(N,1), N, axis=1 ) ), axis=1)\n",
    "\n",
    "    return dotdot_theta"
   ]
  },
  {
   "cell_type": "code",
   "execution_count": 6,
   "metadata": {},
   "outputs": [],
   "source": [
    "def kuramoto_run(x0, K, P, Alf, t_fin):\n",
    "    \n",
    "    N = len(P)\n",
    "    solver = ode( kuramoto_2nd_order )\n",
    "    solver.set_integrator('vode', method = 'bdf', order = 5, nsteps=3000)\n",
    "    solver.set_f_params(P, K, Alf)\n",
    "    solver.set_initial_value(x0, 0)\n",
    "\n",
    "    i = 0\n",
    "    states = []\n",
    "    t = []\n",
    "    while solver.successful() and solver.t < t_fin:\n",
    "        solver.integrate(1, step=True) \n",
    "        states.append( solver.y )\n",
    "        t.append(solver.t)\n",
    "        i += 1\n",
    "\n",
    "    t = np.array(t)\n",
    "    states = np.array(states)\n",
    "    \n",
    "    phases = ( states[-1, 0:N] + np.pi) % (2 * np.pi ) - np.pi\n",
    "    phase_vels = states[-1, N:]\n",
    "\n",
    "    end_state = np.concatenate( phases, phase_vels )\n",
    "    \n",
    "    return end_state\n"
   ]
  },
  {
   "cell_type": "code",
   "execution_count": null,
   "metadata": {},
   "outputs": [],
   "source": [
    "def single_node_bs( kth, x0, K, P, Alf, t_fin  ):\n",
    "    y0 = np.copy( x0 )\n",
    "    for ang_k in np.linspace(0, 2*np.pi, 10):\n",
    "        for velang_k in np.linspace(-10, 10, 10):\n",
    "            y0[kth] = ang_k\n",
    "            y0[kth+N] = velang_k\n",
    "            yfin = kuramoto_run( y0, K, P, Alf, t_fin )\n",
    "            \n",
    "            error_traj = np.linalg.norm( yfin - x0 )\n",
    "            "
   ]
  },
  {
   "cell_type": "code",
   "execution_count": null,
   "metadata": {},
   "outputs": [],
   "source": []
  }
 ],
 "metadata": {
  "kernelspec": {
   "display_name": "Python 3",
   "language": "python",
   "name": "python3"
  },
  "language_info": {
   "codemirror_mode": {
    "name": "ipython",
    "version": 3
   },
   "file_extension": ".py",
   "mimetype": "text/x-python",
   "name": "python",
   "nbconvert_exporter": "python",
   "pygments_lexer": "ipython3",
   "version": "3.6.7"
  }
 },
 "nbformat": 4,
 "nbformat_minor": 2
}
