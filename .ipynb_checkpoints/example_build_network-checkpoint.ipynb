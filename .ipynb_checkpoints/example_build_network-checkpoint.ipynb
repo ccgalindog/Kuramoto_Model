{
 "cells": [
  {
   "cell_type": "markdown",
   "metadata": {},
   "source": [
    "# Building a Network\n",
    "\n",
    "This page presents an example for building a network and preparing the files needed for simulation."
   ]
  },
  {
   "cell_type": "code",
   "execution_count": 11,
   "metadata": {},
   "outputs": [],
   "source": [
    "import numpy as np\n",
    "import start_kuramoto_system"
   ]
  },
  {
   "cell_type": "markdown",
   "metadata": {},
   "source": [
    "Give the location of boost $C^{++}$ library"
   ]
  },
  {
   "cell_type": "code",
   "execution_count": 12,
   "metadata": {},
   "outputs": [],
   "source": [
    "boost_dir = \"/home/cristian/boost_1_68_0\""
   ]
  },
  {
   "cell_type": "markdown",
   "metadata": {},
   "source": [
    "Simulation parameters:"
   ]
  },
  {
   "cell_type": "code",
   "execution_count": 13,
   "metadata": {},
   "outputs": [],
   "source": [
    "dyn_model = \"sm\" # Pick either \"sm\": Synchronous Motor, \"sp\": Structure Preserving, \"en\": Effective Network\n",
    "init_ang = \"random\" # Initial state for phases. Pick either \"random\" or \"zeros\"\n",
    "init_vel = \"zeros\" # Initial state for phase velocities. Pick either \"random\" or \"zeros\"\n",
    "num_init_files = 1 # How many different initial conditions want to try\n",
    "tini = 0.0 # Initial simulation time\n",
    "tfin = 60.0 # Final simulation time\n",
    "mx_step = 0.01 # Step size for integration\n",
    "steps_to_print = 10 # Print output data each \"steps_to_print\" simulation steps\n",
    "# If no disturbance needed in P for this simulation then choose t_disturb and t_recover > tfin\n",
    "t_disturb = 2000000.0 # Time at which a disturbance occurs in P of the network\n",
    "t_recover = 2000010.0 # Time at which P of the network recovers\n",
    "# To sweep for many values of coupling strength k: \n",
    "# If you need to simulate only for one specific k then choose kfin = kini. \n",
    "kini = 1.0 # Initial k strength\n",
    "kfin = 1.5 # Final k strength\n",
    "kstep = 1.0 # Steps of k strength to simulate\n",
    "force = 1 # Strength of the perturbance applied equally to all consumers\n",
    "num_simulation = 1\n",
    "to_plot_net = True"
   ]
  },
  {
   "cell_type": "markdown",
   "metadata": {},
   "source": [
    "## Random Network\n",
    "\n",
    "The following cell generates a random network like:\n",
    "\n",
    "<img src=\"https://user-images.githubusercontent.com/44300619/49319531-45b79e00-f4cb-11e8-84d8-0c08fb5cc67e.png\" width=\"180\" height=\"150\" align=”left” />\n",
    "\n"
   ]
  },
  {
   "cell_type": "code",
   "execution_count": 14,
   "metadata": {
    "scrolled": true
   },
   "outputs": [
    {
     "name": "stdout",
     "output_type": "stream",
     "text": [
      "Mean degree of graph:  6.016\n"
     ]
    },
    {
     "name": "stderr",
     "output_type": "stream",
     "text": [
      "/home/cristian/.local/lib/python3.6/site-packages/networkx/drawing/nx_pylab.py:611: MatplotlibDeprecationWarning: isinstance(..., numbers.Number)\n",
      "  if cb.is_numlike(alpha):\n",
      "/home/cristian/.local/lib/python3.6/site-packages/matplotlib/tight_layout.py:231: UserWarning: tight_layout : falling back to Agg renderer\n",
      "  warnings.warn(\"tight_layout : falling back to Agg renderer\")\n"
     ]
    }
   ],
   "source": [
    "type_net = \"rd\" # Pick either \"sw\" : Smallworld; \"rd\" : Random; \"qr\" : QuasiRegular; \"2n\" : Two-nodes\n",
    "consumers = 100\n",
    "mean_degree = 6 # Mean connectivity Degree - needed only for Random net\n",
    "Po = 1 # Normalization factor for power units\n",
    "Pc = -1*Po # Power drained by each consumer\n",
    "Psg = 2.5*Po # Power supplied by each small generator (renewable energy source)\n",
    "Pbg = 10*Po # Power supplied by each big generator (non-renewable energy source)\n",
    "delt_d = 0.5 # Fraction of renewable generation. A number in the range [0, 1]\n",
    "damp = 1 # Assumming same alfa for every node\n",
    "if ((type_net == \"sw\") or (type_net == \"rd\") or (type_net == \"qr\")):\n",
    "    net_name = \"{}_{}_net_{}_deltd_{}\".format(type_net, dyn_model, num_simulation, delt_d) # Name for the network\n",
    "else:\n",
    "    net_name = \"{}_{}\".format(type_net, dyn_model) # Name for the network\n",
    "    \n",
    "N, P, alf = start_kuramoto_system.default_constructor(type_net, dyn_model, consumers, delt_d, Pc, Psg, Pbg, damp) \n",
    "\n",
    "P_disturbed = start_kuramoto_system.disturbe_all_consumers(P, N, force)\n",
    "start_kuramoto_system.create_simulation_files(type_net, dyn_model, net_name, init_ang, init_vel, tini, tfin, \\\n",
    "                                              steps_to_print, mx_step, kini, kfin, kstep, t_disturb, t_recover, \\\n",
    "                                              num_init_files, to_plot_net, P = P, P_disturbed = P_disturbed, \\\n",
    "                                              alf = alf, delt_d = delt_d, mean_degree = mean_degree, N = N)\n"
   ]
  },
  {
   "cell_type": "markdown",
   "metadata": {},
   "source": [
    "## Quasi-regular Network\n",
    "\n",
    "The following cell generates a quasi-regular network like:\n",
    "\n",
    "<img src=\"https://user-images.githubusercontent.com/44300619/49330157-e30ce380-f558-11e8-9d7c-83c9201fba93.png\" width=\"180\" height=\"150\" align=”left” />\n"
   ]
  },
  {
   "cell_type": "code",
   "execution_count": 15,
   "metadata": {},
   "outputs": [
    {
     "name": "stderr",
     "output_type": "stream",
     "text": [
      "/home/cristian/.local/lib/python3.6/site-packages/networkx/drawing/nx_pylab.py:611: MatplotlibDeprecationWarning: isinstance(..., numbers.Number)\n",
      "  if cb.is_numlike(alpha):\n",
      "/home/cristian/.local/lib/python3.6/site-packages/matplotlib/tight_layout.py:231: UserWarning: tight_layout : falling back to Agg renderer\n",
      "  warnings.warn(\"tight_layout : falling back to Agg renderer\")\n"
     ]
    }
   ],
   "source": [
    "type_net = \"qr\" # Pick either \"sw\" : Smallworld; \"rd\" : Random; \"qr\" : QuasiRegular; \"2n\" : Two-nodes\n",
    "consumers = 100\n",
    "Po = 1 # Normalization factor for power units\n",
    "Pc = -1*Po # Power drained by each consumer\n",
    "Psg = 2.5*Po # Power supplied by each small generator (renewable energy source)\n",
    "Pbg = 10*Po # Power supplied by each big generator (non-renewable energy source)\n",
    "delt_d = 0.5 # Fraction of renewable generation. A number in the range [0, 1]\n",
    "damp = 1 # Assumming same alfa for every node\n",
    "if ((type_net == \"sw\") or (type_net == \"rd\") or (type_net == \"qr\")):\n",
    "    net_name = \"{}_{}_net_{}_deltd_{}\".format(type_net, dyn_model, num_simulation, delt_d) # Name for the network\n",
    "else:\n",
    "    net_name = \"{}_{}\".format(type_net, dyn_model) # Name for the network\n",
    "    \n",
    "N, P, alf = start_kuramoto_system.default_constructor(type_net, dyn_model, consumers, delt_d, Pc, Psg, Pbg, damp) \n",
    "\n",
    "P_disturbed = start_kuramoto_system.disturbe_all_consumers(P, N, force)\n",
    "start_kuramoto_system.create_simulation_files(type_net, dyn_model, net_name, init_ang, init_vel, tini, tfin, \\\n",
    "                                              steps_to_print, mx_step, kini, kfin, kstep, t_disturb, t_recover, \\\n",
    "                                              num_init_files, to_plot_net, P = P, P_disturbed = P_disturbed, \\\n",
    "                                              alf = alf, delt_d = delt_d, consumers = 100, N = N)\n"
   ]
  },
  {
   "cell_type": "markdown",
   "metadata": {},
   "source": [
    "## Small-World Network\n",
    "\n",
    "The following cell generates a quasi-regular network like:\n",
    "\n",
    "<img src=\"https://user-images.githubusercontent.com/44300619/49330160-ea33f180-f558-11e8-8847-53de5f9f3b17.png\" width=\"180\" height=\"150\" align=”left” />"
   ]
  },
  {
   "cell_type": "code",
   "execution_count": 16,
   "metadata": {},
   "outputs": [
    {
     "name": "stderr",
     "output_type": "stream",
     "text": [
      "/home/cristian/.local/lib/python3.6/site-packages/networkx/drawing/nx_pylab.py:611: MatplotlibDeprecationWarning: isinstance(..., numbers.Number)\n",
      "  if cb.is_numlike(alpha):\n",
      "/home/cristian/.local/lib/python3.6/site-packages/matplotlib/tight_layout.py:231: UserWarning: tight_layout : falling back to Agg renderer\n",
      "  warnings.warn(\"tight_layout : falling back to Agg renderer\")\n"
     ]
    }
   ],
   "source": [
    "type_net = \"sw\" # Pick either \"sw\" : Smallworld; \"rd\" : Random; \"qr\" : QuasiRegular; \"2n\" : Two-nodes\n",
    "consumers = 100\n",
    "pth = 0.1 # Rewiring probability - needed only for SmallWorld net\n",
    "neighbors = 4 # Closest neighbors - needed only for SmallWorld net\n",
    "Po = 1 # Normalization factor for power units\n",
    "Pc = -1*Po # Power drained by each consumer\n",
    "Psg = 2.5*Po # Power supplied by each small generator (renewable energy source)\n",
    "Pbg = 10*Po # Power supplied by each big generator (non-renewable energy source)\n",
    "delt_d = 0.5 # Fraction of renewable generation. A number in the range [0, 1]\n",
    "damp = 1 # Assumming same alfa for every node\n",
    "if ((type_net == \"sw\") or (type_net == \"rd\") or (type_net == \"qr\")):\n",
    "    net_name = \"{}_{}_net_{}_deltd_{}\".format(type_net, dyn_model, num_simulation, delt_d) # Name for the network\n",
    "else:\n",
    "    net_name = \"{}_{}\".format(type_net, dyn_model) # Name for the network\n",
    "    \n",
    "N, P, alf = start_kuramoto_system.default_constructor(type_net, dyn_model, consumers, delt_d, Pc, Psg, Pbg, damp) \n",
    "\n",
    "P_disturbed = start_kuramoto_system.disturbe_all_consumers(P, N, force)\n",
    "start_kuramoto_system.create_simulation_files(type_net, dyn_model, net_name, init_ang, init_vel, tini, tfin, \\\n",
    "                                              steps_to_print, mx_step, kini, kfin, kstep, t_disturb, t_recover, \\\n",
    "                                              num_init_files, to_plot_net, P = P, P_disturbed = P_disturbed, \\\n",
    "                                              alf = alf, delt_d = delt_d, consumers = 100, pth = pth, neighbors = neighbors, N = N)"
   ]
  },
  {
   "cell_type": "markdown",
   "metadata": {},
   "source": [
    "## Power grid example case\n",
    "\n",
    "The following cell creates a network for a real power grid case. Here the 9 bus test system is shown.\n",
    "\n",
    "<img src=\"https://user-images.githubusercontent.com/44300619/49330543-333a7480-f55e-11e8-845f-eb76a49b2bd1.png\" width=\"270\" height=\"250\" align=”left” />"
   ]
  },
  {
   "cell_type": "code",
   "execution_count": 17,
   "metadata": {},
   "outputs": [
    {
     "name": "stdout",
     "output_type": "stream",
     "text": [
      "PYPOWER Version 5.1.4, 27-June-2018 -- AC Power Flow (Newton)\n",
      "\n",
      "\n",
      "Newton's method power flow converged in 4 iterations.\n",
      "\n",
      "Converged in 0.09 seconds\n",
      "================================================================================\n",
      "|     System Summary                                                           |\n",
      "================================================================================\n",
      "\n",
      "How many?                How much?              P (MW)            Q (MVAr)\n",
      "---------------------    -------------------  -------------  -----------------\n",
      "Buses              9     Total Gen Capacity     820.0        -900.0 to 900.0\n",
      "Generators         3     On-line Capacity       820.0        -900.0 to 900.0\n",
      "Committed Gens     3     Generation (actual)    319.0              35.0\n",
      "Loads              3     Load                   315.0             115.0\n",
      "  Fixed            3       Fixed                315.0             115.0\n",
      "  Dispatchable     0       Dispatchable           0.0 of 0.0        0.0\n",
      "Shunts             0     Shunt (inj)              0.0               0.0\n",
      "Branches           9     Losses (I^2 * Z)         4.95             51.31\n",
      "Transformers       0     Branch Charging (inj)     -              131.4\n",
      "Inter-ties         0     Total Inter-tie Flow     0.0               0.0\n",
      "Areas              1\n",
      "\n",
      "                          Minimum                      Maximum\n",
      "                 -------------------------  --------------------------------\n",
      "Voltage Magnitude   0.958 p.u. @ bus 4          1.003 p.u. @ bus 8   \n",
      "Voltage Angle      -4.35 deg   @ bus 4          9.67 deg   @ bus 1   \n",
      "P Losses (I^2*R)             -                  2.46 MW    @ line 4-6\n",
      "Q Losses (I^2*X)             -                 16.74 MVAr  @ line 1-6\n",
      "\n",
      "================================================================================\n",
      "|     Bus Data                                                                 |\n",
      "================================================================================\n",
      " Bus      Voltage          Generation             Load        \n",
      "  #   Mag(pu) Ang(deg)   P (MW)   Q (MVAr)   P (MW)   Q (MVAr)\n",
      "----- ------- --------  --------  --------  --------  --------\n",
      "    0  1.000    0.000*    71.00     24.00       -         -   \n",
      "    1  1.000    9.669    163.00     14.00       -         -   \n",
      "    2  1.000    4.771     85.00     -3.00       -         -   \n",
      "    3  0.987   -2.407       -         -         -         -   \n",
      "    4  0.958   -4.350       -         -      125.00     50.00 \n",
      "    5  0.975   -4.017       -         -       90.00     30.00 \n",
      "    6  0.996    3.799       -         -         -         -   \n",
      "    7  0.986    0.622       -         -      100.00     35.00 \n",
      "    8  1.003    1.926       -         -         -         -   \n",
      "                        --------  --------  --------  --------\n",
      "               Total:    319.00     35.00    315.00    115.00\n",
      "\n",
      "================================================================================\n",
      "|     Branch Data                                                              |\n",
      "================================================================================\n",
      "Brnch   From   To    From Bus Injection   To Bus Injection     Loss (I^2 * Z)  \n",
      "  #     Bus    Bus    P (MW)   Q (MVAr)   P (MW)   Q (MVAr)   P (MW)   Q (MVAr)\n",
      "-----  -----  -----  --------  --------  --------  --------  --------  --------\n",
      "   0      0      3     71.95     24.07    -71.95    -20.75    -0.000      3.32\n",
      "   1      3      4     41.23     21.34    -40.96    -35.72     0.266      2.26\n",
      "   2      3      5     30.73     -0.59    -30.55    -13.69     0.174      0.94\n",
      "   3      5      8    -59.45    -16.31     60.89    -12.43     1.449      6.31\n",
      "   4      2      8     85.00     -3.65    -85.00      7.89    -0.000      4.24\n",
      "   5      7      8    -24.01    -24.40     24.11      4.54     0.095      0.81\n",
      "   6      6      7     76.50      0.26    -75.99    -10.60     0.506      4.29\n",
      "   7      1      6    163.00     14.46   -163.00      2.28    -0.000     16.74\n",
      "   8      4      6    -84.04    -14.28     86.50     -2.53     2.465     12.40\n",
      "                                                             --------  --------\n",
      "                                                    Total:     4.955     51.31\n",
      "Optimization terminated successfully.\n",
      "         Current function value: 1420.388093\n",
      "         Iterations: 897\n",
      "         Function evaluations: 1321\n"
     ]
    },
    {
     "name": "stderr",
     "output_type": "stream",
     "text": [
      "/home/cristian/.local/lib/python3.6/site-packages/networkx/drawing/nx_pylab.py:611: MatplotlibDeprecationWarning: isinstance(..., numbers.Number)\n",
      "  if cb.is_numlike(alpha):\n",
      "/home/cristian/.local/lib/python3.6/site-packages/matplotlib/tight_layout.py:231: UserWarning: tight_layout : falling back to Agg renderer\n",
      "  warnings.warn(\"tight_layout : falling back to Agg renderer\")\n"
     ]
    }
   ],
   "source": [
    "type_net = \"case9\" # Pick either \"sw\" : Smallworld; \"rd\" : Random; \"qr\" : QuasiRegular; \"2n\" : Two-nodes\n",
    "mag_d = 1.0\n",
    "re_d = 1.0 \n",
    "im_d = 1.0\n",
    "ref_freq = 60\n",
    "\n",
    "if ((type_net == \"sw\") or (type_net == \"rd\") or (type_net == \"qr\")):\n",
    "    net_name = \"{}_{}_net_{}_deltd_{}\".format(type_net, dyn_model, num_simulation, delt_d) # Name for the network\n",
    "else:\n",
    "    net_name = \"{}_{}\".format(type_net, dyn_model) # Name for the network\n",
    "\n",
    "start_kuramoto_system.create_simulation_files(type_net, dyn_model, net_name, init_ang, init_vel, tini, tfin, \\\n",
    "                                              steps_to_print, mx_step, kini, kfin, kstep, t_disturb, t_recover, \\\n",
    "                                              num_init_files, to_plot_net, mag_d = mag_d, re_d = re_d, im_d = im_d, ref_freq=ref_freq)"
   ]
  },
  {
   "cell_type": "markdown",
   "metadata": {},
   "source": [
    "### Finally, in the following cell, a to_run.sh file is created to prepare the simulation of every file in Sim_Settings folder."
   ]
  },
  {
   "cell_type": "code",
   "execution_count": 18,
   "metadata": {},
   "outputs": [],
   "source": [
    "start_kuramoto_system.get_to_run_file(boost_dir)\n"
   ]
  }
 ],
 "metadata": {
  "kernelspec": {
   "display_name": "Python 3",
   "language": "python",
   "name": "python3"
  },
  "language_info": {
   "codemirror_mode": {
    "name": "ipython",
    "version": 3
   },
   "file_extension": ".py",
   "mimetype": "text/x-python",
   "name": "python",
   "nbconvert_exporter": "python",
   "pygments_lexer": "ipython3",
   "version": "3.5.2"
  }
 },
 "nbformat": 4,
 "nbformat_minor": 2
}
