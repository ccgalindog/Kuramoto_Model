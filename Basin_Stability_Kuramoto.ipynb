{
 "cells": [
  {
   "cell_type": "code",
   "execution_count": 1,
   "metadata": {},
   "outputs": [],
   "source": [
    "import numpy as np\n",
    "import matplotlib.style\n",
    "matplotlib.style.use('classic')\n",
    "#import matplotlib\n",
    "#matplotlib.use(\"pdf\")\n",
    "import numpy as np\n",
    "import networkx as nx\n",
    "import matplotlib.pyplot as plt\n",
    "from scipy.integrate import ode\n",
    "from scipy.interpolate import griddata\n",
    "from numba import cuda, autojit, jit, vectorize\n",
    "from pylab import imshow, show\n",
    "from timeit import default_timer as timer"
   ]
  },
  {
   "cell_type": "code",
   "execution_count": 2,
   "metadata": {},
   "outputs": [],
   "source": [
    "#@jit(nopython=True)\n",
    "#@vectorize\n",
    "def kuramoto_2nd_order( t, x, P, K, alfs ):\n",
    "    N = int(len( P ))\n",
    "    theta = x[:N]\n",
    "    dot_theta = x[N:]\n",
    "    dotdot_theta = np.zeros( 2*N, np.float64 )\n",
    "    dotdot_theta[0:N] = dot_theta\n",
    "    dotdot_theta[N:] = P - np.multiply( alfs, dot_theta ) + np.sum(K * np.sin( np.repeat( theta.reshape(N,1).T, N, axis=0 ) - np.repeat( theta.reshape(N,1), N, axis=1 ) ), axis=1)\n",
    "\n",
    "    return dotdot_theta"
   ]
  },
  {
   "cell_type": "code",
   "execution_count": 91,
   "metadata": {},
   "outputs": [],
   "source": [
    "def kuramoto_run(x0, K, P, Alf, t_fin):\n",
    "    \n",
    "    N = len(P)\n",
    "    solver = ode( kuramoto_2nd_order )\n",
    "    solver.set_integrator('vode', method = 'bdf', order = 5, nsteps=3000)\n",
    "    solver.set_f_params(P, K, Alf)\n",
    "    solver.set_initial_value(x0, 0)\n",
    "\n",
    "    i = 0\n",
    "    states = []\n",
    "    t = []\n",
    "    while solver.successful() and solver.t < t_fin:\n",
    "        solver.integrate(1, step=True) \n",
    "        states.append( solver.y )\n",
    "        t.append(solver.t)\n",
    "        i += 1\n",
    "\n",
    "    t = np.array(t)\n",
    "    states = np.array(states)\n",
    "    \n",
    "    phases = ( states[-1, 0:N] + np.pi) % (2 * np.pi ) - np.pi\n",
    "    phase_vels = states[-1, N:]\n",
    "    \n",
    "    end_state = np.concatenate( [phases, phase_vels] )\n",
    "    \n",
    "#     plt.figure()\n",
    "#     plt.subplot(121)\n",
    "#     plt.plot(t, states[:,:N])\n",
    "#     plt.subplot(122)\n",
    "#     plt.plot(t, states[:,N:])\n",
    "#     plt.show()\n",
    "    \n",
    "    return end_state\n"
   ]
  },
  {
   "cell_type": "code",
   "execution_count": 92,
   "metadata": {},
   "outputs": [],
   "source": [
    "def synch_condition( K, w ):\n",
    "    '''\n",
    "    Returns an approximation to the critical coupling and to the steady state\n",
    "    of the system, calculated from topological considerations.\n",
    "    '''\n",
    "    G = nx.from_numpy_matrix(K)\n",
    "    L_dagger = np.linalg.pinv( nx.laplacian_matrix( G ).todense() )\n",
    "    B = nx.incidence_matrix( G, oriented = True ).todense()\n",
    "    theta_ss = np.matmul(L_dagger, w) \n",
    "    x0 = np.concatenate((theta_ss, 0*theta_ss), axis=1).T\n",
    "    x0 = x0.flatten()\n",
    "    x0 = x0.tolist()\n",
    "    x0 = x0[0]\n",
    "    k_crit = np.linalg.norm( np.matmul( B.T, theta_ss.T ), np.inf )\n",
    "\n",
    "    return k_crit, x0"
   ]
  },
  {
   "cell_type": "code",
   "execution_count": 88,
   "metadata": {},
   "outputs": [],
   "source": [
    "def single_node_bs( kth, K, P, Alf, t_fin, num_angs, num_vels ):\n",
    "    N = len(P)\n",
    "    k_crit, x0 = synch_condition( K, P )\n",
    "    x0 = kuramoto_run( x0, K, P, Alf, t_fin )\n",
    "    y0 = np.copy( x0 )\n",
    "    state_returns = 0.0\n",
    "    state_totals = num_angs*num_vels\n",
    "    \n",
    "    for ang_k in np.linspace(0, 2*np.pi, num_angs):\n",
    "        for velang_k in np.linspace(-0.5, 0.5, num_vels):\n",
    "            y0[kth] = ang_k\n",
    "            y0[kth+N] = velang_k\n",
    "            yfin = kuramoto_run( y0, K, P, Alf, t_fin )\n",
    "            error_traj = np.linalg.norm( yfin - x0 )\n",
    "            \n",
    "            #print(yfin, '\\n', error_traj)\n",
    "            \n",
    "            if (error_traj < 20):\n",
    "                state_returns = state_returns + 1.0\n",
    "                print(ang_k, velang_k)\n",
    "                \n",
    "    BS = state_returns/state_totals\n",
    "    \n",
    "    return BS, x0"
   ]
  },
  {
   "cell_type": "code",
   "execution_count": 89,
   "metadata": {},
   "outputs": [],
   "source": [
    "# K = 8*np.array([ [0.0, 1.0, 1.0], [1.0, 0.0, 1.0], [1.0, 1.0, 0.0] ])\n",
    "# P = np.array([ 1.0, -1.0, 0.0 ] )\n",
    "# Alf = np.zeros(3)\n",
    "\n",
    "K = np.loadtxt( 'params_COL/K_Colombia_pu.txt' )\n",
    "P = np.loadtxt( 'params_COL/P_Colombia_pu.txt' )\n",
    "Alf = 0.1*np.ones( P.shape )\n",
    "\n",
    "\n",
    "t_fin = 200\n",
    "kth_node = 0\n",
    "num_angs = 5\n",
    "num_vels = 5\n"
   ]
  },
  {
   "cell_type": "code",
   "execution_count": 93,
   "metadata": {},
   "outputs": [
    {
     "name": "stdout",
     "output_type": "stream",
     "text": [
      "0.0 -0.5\n",
      "0.0 -0.25\n",
      "0.0 0.0\n",
      "0.0 0.25\n",
      "0.0 0.5\n",
      "1.5707963267948966 -0.5\n",
      "1.5707963267948966 -0.25\n",
      "1.5707963267948966 0.0\n",
      "1.5707963267948966 0.25\n",
      "1.5707963267948966 0.5\n",
      "3.141592653589793 -0.5\n",
      "3.141592653589793 -0.25\n",
      "3.141592653589793 0.0\n",
      "3.141592653589793 0.25\n",
      "3.141592653589793 0.5\n",
      "4.71238898038469 -0.5\n",
      "4.71238898038469 -0.25\n",
      "4.71238898038469 0.0\n",
      "4.71238898038469 0.25\n",
      "4.71238898038469 0.5\n",
      "6.283185307179586 -0.5\n",
      "6.283185307179586 -0.25\n",
      "6.283185307179586 0.0\n",
      "6.283185307179586 0.25\n",
      "6.283185307179586 0.5\n"
     ]
    }
   ],
   "source": [
    "BS, x0 = single_node_bs( kth_node, K, P, Alf, t_fin, num_angs, num_vels )\n"
   ]
  },
  {
   "cell_type": "code",
   "execution_count": 94,
   "metadata": {
    "scrolled": true
   },
   "outputs": [
    {
     "data": {
      "text/plain": [
       "1.0"
      ]
     },
     "execution_count": 94,
     "metadata": {},
     "output_type": "execute_result"
    }
   ],
   "source": [
    "BS"
   ]
  },
  {
   "cell_type": "code",
   "execution_count": 77,
   "metadata": {},
   "outputs": [
    {
     "data": {
      "text/plain": [
       "array([ 4.17038143e-02, -4.17038143e-02,  5.86197757e-14, -1.76000046e-04,\n",
       "        1.76000046e-04,  4.62569889e-17])"
      ]
     },
     "execution_count": 77,
     "metadata": {},
     "output_type": "execute_result"
    }
   ],
   "source": [
    "x0"
   ]
  },
  {
   "cell_type": "code",
   "execution_count": null,
   "metadata": {},
   "outputs": [],
   "source": []
  }
 ],
 "metadata": {
  "kernelspec": {
   "display_name": "Python 3",
   "language": "python",
   "name": "python3"
  },
  "language_info": {
   "codemirror_mode": {
    "name": "ipython",
    "version": 3
   },
   "file_extension": ".py",
   "mimetype": "text/x-python",
   "name": "python",
   "nbconvert_exporter": "python",
   "pygments_lexer": "ipython3",
   "version": "3.6.7"
  }
 },
 "nbformat": 4,
 "nbformat_minor": 2
}
